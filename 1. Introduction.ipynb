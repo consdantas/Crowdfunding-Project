{
 "cells": [
  {
   "cell_type": "markdown",
   "id": "7291a61a-0c81-400b-b165-651f64f77b6a",
   "metadata": {},
   "source": [
    "<font size=\"12\"> **Introduction**\n",
    "\n",
    "Objectives:\n",
    "The main objectives of the project are to develop a classification system for distinguishing between successful and failed projects \n",
    "on Kickstarter based on data crawled from the platform. This system aims to provide valuable insights to project creators, guiding \n",
    "them in setting up effective campaign strategies and making informed decisions about launching crowdfunding projects."
   ]
  },
  {
   "cell_type": "markdown",
   "id": "a0596af4-4b70-4262-ad7d-df0155b683e0",
   "metadata": {},
   "source": [
    "<font size=\"8\"> **Data set** \n",
    "\n",
    "We began with an extensive dataset comprising X projects seeking crowdfunding on the Kickstarter platform. This data was organized chronologically by month and year within Kickstarter. Due to the sheer volume of available data, it became apparent that processing it without a structured approach would be impractical. Consequently, we opted to focus on the most recent years, specifically from 2020 onwards, and selected one CSV file per month per year. This resulted in the utilization of 48 CSV files, representing 48 months across 4 years, amounting to ___ entries.\n",
    "\n",
    "To construct a predictive model, it's essential to establish a structured data lake. This involves organizing the data into a format conducive to analysis and modelin The data lake should include features such as project category, funding goal, campaign duration, project description, creator background, funding success/failure, and any other relevant variables. Each entry should be accurately labeled to facilitate supervised learning.arity.g."
   ]
  },
  {
   "cell_type": "markdown",
   "id": "4954106c-948c-4930-b279-f9e0ad4b0881",
   "metadata": {},
   "source": [
    "However, several challenges and potential biases may arise during this process:\n",
    "\n",
    "- Sampling Bias: \n",
    "By focusing solely on recent years, there may be a bias towards contemporary trends and project characteristics. Older projects, which could offer valuable historical insights, may be underrepresented or excluded entirely.\n",
    "- Selection Bias: The decision to include only one CSV per month per year may inadvertently prioritize certain types of projects or time periods, leading to a biased sample.\n",
    "\n",
    "- Imbalanced Classes: The dataset may exhibit an imbalance between successful and failed projects, with one class significantly outnumbering the other. This can skew the predictive model's performance and accuracy.\n",
    "\n",
    "- Missing Data: Some entries may contain missing or incomplete information, which can hinder the effectiveness of the predictive model if not addressed appropriately.\n",
    "\n",
    "- Feature Engineering: Identifying and extracting relevant features from the raw data requires careful consideration and domain expertise. It's crucial to select features that have predictive power while avoiding those that introduce noise or multicollinearity."
   ]
  },
  {
   "cell_type": "markdown",
   "id": "41c89d1e-f13d-4438-b840-240e120e3be2",
   "metadata": {},
   "source": [
    "It will necessitate thorough data preprocessing, feature engineering, and model validation techniques to mitigate biases and ensure the model's generalizability and effectiveness."
   ]
  },
  {
   "cell_type": "code",
   "execution_count": 30,
   "id": "3b872b39-8473-453c-acb1-de5ae9528ad1",
   "metadata": {
    "tags": []
   },
   "outputs": [],
   "source": [
    "import pandas as pd\n",
    "df = pd.read_csv(r'1. uncleaned_4years.csv', low_memory=False)\n",
    "pd.options.display.float_format = '{:.2f}'.format\n"
   ]
  },
  {
   "cell_type": "code",
   "execution_count": 31,
   "id": "e0029af2-1d84-42d1-9c12-f5555881e0af",
   "metadata": {
    "tags": []
   },
   "outputs": [
    {
     "name": "stdout",
     "output_type": "stream",
     "text": [
      "The dataset has 146925 rows\n",
      "They are divided into columns and rows: (146925, 48)\n",
      "<class 'pandas.core.frame.DataFrame'>\n",
      "RangeIndex: 146925 entries, 0 to 146924\n",
      "Data columns (total 48 columns):\n",
      " #   Column                    Non-Null Count   Dtype  \n",
      "---  ------                    --------------   -----  \n",
      " 0   friends                   111 non-null     object \n",
      " 1   state_changed_at          146925 non-null  int64  \n",
      " 2   blurb                     146914 non-null  object \n",
      " 3   id                        146925 non-null  int64  \n",
      " 4   static_usd_rate           146925 non-null  float64\n",
      " 5   permissions               111 non-null     object \n",
      " 6   location                  146785 non-null  object \n",
      " 7   backers_count             146925 non-null  int64  \n",
      " 8   deadline                  146925 non-null  int64  \n",
      " 9   source_url                146925 non-null  object \n",
      " 10  usd_type                  146851 non-null  object \n",
      " 11  photo                     146925 non-null  object \n",
      " 12  is_starred                111 non-null     object \n",
      " 13  is_backing                111 non-null     object \n",
      " 14  category                  146925 non-null  object \n",
      " 15  goal                      146925 non-null  float64\n",
      " 16  creator                   146925 non-null  object \n",
      " 17  is_starrable              146925 non-null  bool   \n",
      " 18  staff_pick                146925 non-null  bool   \n",
      " 19  pledged                   146925 non-null  float64\n",
      " 20  usd_exchange_rate         89899 non-null   float64\n",
      " 21  country_displayable_name  146925 non-null  object \n",
      " 22  currency_symbol           146925 non-null  object \n",
      " 23  video                     2271 non-null    object \n",
      " 24  created_at                146925 non-null  int64  \n",
      " 25  country                   146925 non-null  object \n",
      " 26  is_launched               3341 non-null    object \n",
      " 27  usd_pledged               146014 non-null  float64\n",
      " 28  unseen_activity_count     0 non-null       float64\n",
      " 29  is_disliked               3341 non-null    object \n",
      " 30  name                      146925 non-null  object \n",
      " 31  urls                      146925 non-null  object \n",
      " 32  spotlight                 146925 non-null  bool   \n",
      " 33  last_update_published_at  0 non-null       float64\n",
      " 34  unread_messages_count     0 non-null       float64\n",
      " 35  currency                  146925 non-null  object \n",
      " 36  percent_funded            3341 non-null    float64\n",
      " 37  converted_pledged_amount  146014 non-null  float64\n",
      " 38  current_currency          146925 non-null  object \n",
      " 39  is_liked                  3341 non-null    object \n",
      " 40  state                     146925 non-null  object \n",
      " 41  slug                      146925 non-null  object \n",
      " 42  profile                   146925 non-null  object \n",
      " 43  disable_communication     146925 non-null  bool   \n",
      " 44  currency_trailing_code    146925 non-null  bool   \n",
      " 45  launched_at               146925 non-null  int64  \n",
      " 46  fx_rate                   146925 non-null  float64\n",
      " 47  prelaunch_activated       3341 non-null    object \n",
      "dtypes: bool(5), float64(11), int64(6), object(26)\n",
      "memory usage: 48.9+ MB\n",
      "None\n"
     ]
    }
   ],
   "source": [
    "#we need to first exclude any duplicates there might be, so that the data exploration doesn't suffer any changes to when modelling\n",
    "df = df.drop_duplicates(ignore_index=True)\n",
    "\n",
    "#understanding the size of the df\n",
    "print(\"The dataset has\",len(df),\"rows\")\n",
    "print(\"They are divided into columns and rows:\",df.shape)\n",
    "\n",
    "#what columns does it include and data types\n",
    "print(df.info())\n"
   ]
  },
  {
   "cell_type": "markdown",
   "id": "1017139e-9536-4b99-9b0b-61f598e714fa",
   "metadata": {},
   "source": [
    "Some other columns do not add any data value and harm the dataset by increasing its size and making it harder to process, and some others have very little data available."
   ]
  },
  {
   "cell_type": "code",
   "execution_count": 32,
   "id": "157d09f0-aab4-4abb-823d-5026293016a0",
   "metadata": {
    "tags": []
   },
   "outputs": [],
   "source": [
    "df.drop(['friends', 'permissions', 'is_starred', 'is_backing', 'video',\n",
    "             'is_launched', 'unseen_activity_count', 'is_disliked', 'last_update_published_at',\n",
    "             'unread_messages_count', 'percent_funded', 'is_liked', 'prelaunch_activated','currency_trailing_code','urls', \n",
    "             'location', 'currency_symbol','source_url', 'country'],\n",
    "             axis=1, inplace=True)"
   ]
  },
  {
   "cell_type": "markdown",
   "id": "ae6e25eb-18f0-4eb7-96b6-833af2b5fd56",
   "metadata": {},
   "source": [
    "<font size=\"3\"> The variables that seem the most interesting at this point are Category, Country, State and Currency, in the object type, \n",
    "and Converted Pledged Amount (as we have several different currencies). It would be interesting to look at goal, but being in different currencies, doesn't really provide a valid insight. \n",
    "The State variable is our target variable. \n",
    "We will then explore those variables further:"
   ]
  },
  {
   "cell_type": "code",
   "execution_count": 33,
   "id": "7aa9882d-3c38-4305-b5ac-03ccaaffe1a6",
   "metadata": {
    "tags": []
   },
   "outputs": [
    {
     "data": {
      "text/html": [
       "<div>\n",
       "<style scoped>\n",
       "    .dataframe tbody tr th:only-of-type {\n",
       "        vertical-align: middle;\n",
       "    }\n",
       "\n",
       "    .dataframe tbody tr th {\n",
       "        vertical-align: top;\n",
       "    }\n",
       "\n",
       "    .dataframe thead th {\n",
       "        text-align: right;\n",
       "    }\n",
       "</style>\n",
       "<table border=\"1\" class=\"dataframe\">\n",
       "  <thead>\n",
       "    <tr style=\"text-align: right;\">\n",
       "      <th></th>\n",
       "      <th>category</th>\n",
       "      <th>country_displayable_name</th>\n",
       "      <th>state</th>\n",
       "      <th>creator</th>\n",
       "      <th>currency</th>\n",
       "    </tr>\n",
       "  </thead>\n",
       "  <tbody>\n",
       "    <tr>\n",
       "      <th>count</th>\n",
       "      <td>146925</td>\n",
       "      <td>146925</td>\n",
       "      <td>146925</td>\n",
       "      <td>146925</td>\n",
       "      <td>146925</td>\n",
       "    </tr>\n",
       "    <tr>\n",
       "      <th>unique</th>\n",
       "      <td>354</td>\n",
       "      <td>25</td>\n",
       "      <td>7</td>\n",
       "      <td>146715</td>\n",
       "      <td>15</td>\n",
       "    </tr>\n",
       "    <tr>\n",
       "      <th>top</th>\n",
       "      <td>{\"id\":253,\"name\":\"Webcomics\",\"analytics_name\":...</td>\n",
       "      <td>the United States</td>\n",
       "      <td>successful</td>\n",
       "      <td>{\"id\":2118747970,\"name\":\"Gladys\",\"slug\":\"gmutu...</td>\n",
       "      <td>USD</td>\n",
       "    </tr>\n",
       "    <tr>\n",
       "      <th>freq</th>\n",
       "      <td>5621</td>\n",
       "      <td>99284</td>\n",
       "      <td>89622</td>\n",
       "      <td>5</td>\n",
       "      <td>99284</td>\n",
       "    </tr>\n",
       "  </tbody>\n",
       "</table>\n",
       "</div>"
      ],
      "text/plain": [
       "                                                 category  \\\n",
       "count                                              146925   \n",
       "unique                                                354   \n",
       "top     {\"id\":253,\"name\":\"Webcomics\",\"analytics_name\":...   \n",
       "freq                                                 5621   \n",
       "\n",
       "       country_displayable_name       state  \\\n",
       "count                    146925      146925   \n",
       "unique                       25           7   \n",
       "top           the United States  successful   \n",
       "freq                      99284       89622   \n",
       "\n",
       "                                                  creator currency  \n",
       "count                                              146925   146925  \n",
       "unique                                             146715       15  \n",
       "top     {\"id\":2118747970,\"name\":\"Gladys\",\"slug\":\"gmutu...      USD  \n",
       "freq                                                    5    99284  "
      ]
     },
     "execution_count": 33,
     "metadata": {},
     "output_type": "execute_result"
    }
   ],
   "source": [
    "df[['category','country_displayable_name','state','creator','currency']].describe(include=object)"
   ]
  },
  {
   "cell_type": "code",
   "execution_count": 8,
   "id": "76a004ee-d65f-45a8-bb41-d6b1674eca7c",
   "metadata": {
    "tags": []
   },
   "outputs": [
    {
     "data": {
      "text/html": [
       "<div>\n",
       "<style scoped>\n",
       "    .dataframe tbody tr th:only-of-type {\n",
       "        vertical-align: middle;\n",
       "    }\n",
       "\n",
       "    .dataframe tbody tr th {\n",
       "        vertical-align: top;\n",
       "    }\n",
       "\n",
       "    .dataframe thead th {\n",
       "        text-align: right;\n",
       "    }\n",
       "</style>\n",
       "<table border=\"1\" class=\"dataframe\">\n",
       "  <thead>\n",
       "    <tr style=\"text-align: right;\">\n",
       "      <th></th>\n",
       "      <th>converted_pledged_amount</th>\n",
       "    </tr>\n",
       "  </thead>\n",
       "  <tbody>\n",
       "    <tr>\n",
       "      <th>count</th>\n",
       "      <td>146014.00</td>\n",
       "    </tr>\n",
       "    <tr>\n",
       "      <th>mean</th>\n",
       "      <td>16261.76</td>\n",
       "    </tr>\n",
       "    <tr>\n",
       "      <th>std</th>\n",
       "      <td>157111.25</td>\n",
       "    </tr>\n",
       "    <tr>\n",
       "      <th>min</th>\n",
       "      <td>0.00</td>\n",
       "    </tr>\n",
       "    <tr>\n",
       "      <th>25%</th>\n",
       "      <td>200.00</td>\n",
       "    </tr>\n",
       "    <tr>\n",
       "      <th>50%</th>\n",
       "      <td>2109.00</td>\n",
       "    </tr>\n",
       "    <tr>\n",
       "      <th>75%</th>\n",
       "      <td>8292.25</td>\n",
       "    </tr>\n",
       "    <tr>\n",
       "      <th>max</th>\n",
       "      <td>41754153.00</td>\n",
       "    </tr>\n",
       "  </tbody>\n",
       "</table>\n",
       "</div>"
      ],
      "text/plain": [
       "       converted_pledged_amount\n",
       "count                 146014.00\n",
       "mean                   16261.76\n",
       "std                   157111.25\n",
       "min                        0.00\n",
       "25%                      200.00\n",
       "50%                     2109.00\n",
       "75%                     8292.25\n",
       "max                 41754153.00"
      ]
     },
     "execution_count": 8,
     "metadata": {},
     "output_type": "execute_result"
    }
   ],
   "source": [
    "df[['converted_pledged_amount']].describe()"
   ]
  },
  {
   "cell_type": "markdown",
   "id": "aebaaed6-5fe4-4d9d-a827-344f6f60f5bb",
   "metadata": {
    "tags": []
   },
   "source": [
    "<font size=\"4\"> The state variable will be our target variable and we noticed that it has 7 different outputs.\n",
    "We also noticed that we have 15 different currencies, with over 67% being USD. Nevertheless, we will we have to use always converted amounts in our analysis, to avoid wrong conclusions caused by different currencies."
   ]
  },
  {
   "cell_type": "markdown",
   "id": "48afec1f-cd66-4ee8-8d7b-62595a107a57",
   "metadata": {},
   "source": [
    "<font size=\"6\">**Target Variable**\n",
    "\n",
    "<font size=\"4\">Understanding the target variable is crucial because it allows me to grasp the core problem I'm trying to solve. By understanding the target variable, I gain insights into what I aim to predict or classify. This comprehension guides my entire modeling process, from selecting appropriate features to choosing the right algorithm.\n",
    "\n",
    "<font size=\"4\">Checking if I have sufficient data on the target variable is essential because it directly impacts the performance and reliability of my model. Insufficient data may lead to biased or unreliable predictions. It's vital to ensure that I have an adequate number of samples for each class or category within the target variable to train a robust and accurate model. Without enough data, my model may struggle to generalize well to new, unseen instances, resulting in poor performance in real-world scenarios. Therefore, assessing data sufficiency helps me make informed decisions about whether additional data collection or sampling strategies are necessary to improve the quality of my model."
   ]
  },
  {
   "cell_type": "code",
   "execution_count": 34,
   "id": "a73dd40c-2229-4e14-a38f-b100d4d6d1d9",
   "metadata": {
    "tags": []
   },
   "outputs": [],
   "source": [
    "df['state'].unique()\n",
    "df = df[(df['state'] == 'failed') | (df['state'] == 'successful')]"
   ]
  },
  {
   "cell_type": "markdown",
   "id": "b2d3b9b6-d5e7-4fe0-b99e-89d07da53062",
   "metadata": {},
   "source": [
    "It is not relevant the other stages of the projec rather than sucessful and failed, as the rest of the categories are not yet through the process."
   ]
  },
  {
   "cell_type": "code",
   "execution_count": 35,
   "id": "3266c62c-0dbe-4aee-be6a-54c862b096b2",
   "metadata": {
    "tags": []
   },
   "outputs": [],
   "source": [
    "# saving df in csv \n",
    "df.to_csv('2. visualization_base.csv', index=False)"
   ]
  }
 ],
 "metadata": {
  "kernelspec": {
   "display_name": "Python 3 (ipykernel)",
   "language": "python",
   "name": "python3"
  },
  "language_info": {
   "codemirror_mode": {
    "name": "ipython",
    "version": 3
   },
   "file_extension": ".py",
   "mimetype": "text/x-python",
   "name": "python",
   "nbconvert_exporter": "python",
   "pygments_lexer": "ipython3",
   "version": "3.11.5"
  }
 },
 "nbformat": 4,
 "nbformat_minor": 5
}
