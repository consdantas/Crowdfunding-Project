{
 "cells": [
  {
   "cell_type": "markdown",
   "id": "c75110b8-e8cb-4a7e-abdc-39f0f87a745d",
   "metadata": {},
   "source": [
    "<font size=\"12\"> **Gathering Data from Kisckstarter**\n",
    "\n",
    "https://webrobots.io/kickstarter-datasets/"
   ]
  },
  {
   "cell_type": "code",
   "execution_count": 1,
   "id": "7677fc45-5d36-414e-93d3-3cfdd3a3f12c",
   "metadata": {},
   "outputs": [],
   "source": [
    "import pandas as pd\n",
    "import csv\n",
    "\n",
    "inputs = [\"2022-01.csv\", \"2022-02.csv\",\"2022-03.csv\",\"2022-04.csv\",\"2022-05.csv\",\"2022-06.csv\",\n",
    "         \"2022-07.csv\",\"2022-08.csv\",\"2022-09.csv\",\"2022-10.csv\",\"2022-11.csv\",\"2022-12.csv\",\n",
    "         \"2021-01.csv\", \"2021-02.csv\",\"2021-03.csv\",\"2021-04.csv\",\"2021-05.csv\",\"2021-06.csv\",\n",
    "         \"2021-07.csv\",\"2021-08.csv\",\"2021-09.csv\",\"2021-10.csv\",\"2021-11.csv\",\"2021-12.csv\",\n",
    "         \"2020-01.csv\", \"2020-02.csv\",\"2020-03.csv\",\"2020-04.csv\",\"2020-05.csv\",\"2020-06.csv\",\n",
    "         \"2020-07.csv\",\"2020-08.csv\",\"2020-09.csv\",\"2020-10.csv\",\"2020-11.csv\",\"2020-12.csv\",\n",
    "         \"2023-01.csv\", \"2023-02.csv\",\"2023-03.csv\",\"2023-04.csv\",\"2023-05.csv\",\"2023-06.csv\",\n",
    "         \"2023-07.csv\",\"2023-08.csv\",\"2023-09.csv\",\"2023-10.csv\",\"2023-11.csv\",\"2023-12.csv\"]\n",
    "fieldnames = set()  # Use a set to avoid duplicates\n",
    "\n",
    "# Collect unique field names from all input files\n",
    "for filename in inputs:\n",
    "    with open(filename, \"r\", newline=\"\") as f_in:\n",
    "        reader = csv.reader(f_in)\n",
    "        headers = next(reader)\n",
    "        fieldnames.update(headers)\n",
    "\n",
    "# Then copy the data\n",
    "with open(\"1. uncleaned_4years.csv\", \"w\", newline=\"\") as f_out:   # Comment 2 below\n",
    "    writer = csv.DictWriter(f_out, fieldnames=fieldnames)\n",
    "    writer.writeheader()  # Write header with field names\n",
    "    for filename in inputs:\n",
    "        with open(filename, \"r\", newline=\"\") as f_in:\n",
    "            reader = csv.DictReader(f_in)  # Uses the field names in this file\n",
    "            for line in reader:\n",
    "                # Comment 3 below\n",
    "                writer.writerow(line)"
   ]
  }
 ],
 "metadata": {
  "kernelspec": {
   "display_name": "Python 3 (ipykernel)",
   "language": "python",
   "name": "python3"
  },
  "language_info": {
   "codemirror_mode": {
    "name": "ipython",
    "version": 3
   },
   "file_extension": ".py",
   "mimetype": "text/x-python",
   "name": "python",
   "nbconvert_exporter": "python",
   "pygments_lexer": "ipython3",
   "version": "3.11.5"
  }
 },
 "nbformat": 4,
 "nbformat_minor": 5
}
